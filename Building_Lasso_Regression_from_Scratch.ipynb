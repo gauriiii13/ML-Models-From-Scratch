{
  "nbformat": 4,
  "nbformat_minor": 0,
  "metadata": {
    "colab": {
      "provenance": [],
      "authorship_tag": "ABX9TyOSHvkQL066VJ0dawApwGCN",
      "include_colab_link": true
    },
    "kernelspec": {
      "name": "python3",
      "display_name": "Python 3"
    },
    "language_info": {
      "name": "python"
    }
  },
  "cells": [
    {
      "cell_type": "markdown",
      "metadata": {
        "id": "view-in-github",
        "colab_type": "text"
      },
      "source": [
        "<a href=\"https://colab.research.google.com/github/gauriiii13/ML-Models-From-Scratch/blob/main/Building_Lasso_Regression_from_Scratch.ipynb\" target=\"_parent\"><img src=\"https://colab.research.google.com/assets/colab-badge.svg\" alt=\"Open In Colab\"/></a>"
      ]
    },
    {
      "cell_type": "markdown",
      "source": [
        "#**Importing Dependencies**"
      ],
      "metadata": {
        "id": "5plzUoYhandj"
      }
    },
    {
      "cell_type": "code",
      "execution_count": 1,
      "metadata": {
        "id": "T9QvS26AP6kV"
      },
      "outputs": [],
      "source": [
        "import numpy as np"
      ]
    },
    {
      "cell_type": "markdown",
      "source": [
        "#**Lasso Regression**"
      ],
      "metadata": {
        "id": "fiYMKGuca46V"
      }
    },
    {
      "cell_type": "code",
      "source": [
        "class Lasso_Regression:\n",
        "\n",
        "#initiating the hyperparameters\n",
        "  def __init__(self, learning_rate, no_of_iterations, lambda_parameter):\n",
        "    self.learning_rate=learning_rate\n",
        "    self.no_of_iterations=no_of_iterations\n",
        "    self.lambda_parameter=lambda_parameter\n",
        "\n",
        "#fitting the dataset to Lasso Regression model\n",
        "  def fit(self, X, Y):\n",
        "    #no of training datapoints and no of features in dataset\n",
        "    self.m,self.n=X.shape\n",
        "    #initiating weights and bias\n",
        "    self.w=np.zeros(self.n)\n",
        "    self.b=0\n",
        "    self.X=X\n",
        "    self.Y=Y\n",
        "    #implementing gradient descent\n",
        "    for i in range(self.no_of_iterations):\n",
        "      self.update_weights()\n",
        "\n",
        "#function for updating gradients\n",
        "  def update_weights(self):\n",
        "    Y_prediction=self.predict(self.X)\n",
        "    #calculate derivatives\n",
        "    dw=np.zeros(self.n)\n",
        "    for i in range(self.n):\n",
        "      if(self.w[i]>0):\n",
        "        dw[i]=(-(2*(self.X[:,i]).dot(self.Y-Y_prediction))+self.lambda_parameter)/self.m\n",
        "      else:\n",
        "        dw[i]=(-(2*(self.X[:,i]).dot(self.Y-Y_prediction))-self.lambda_parameter)/self.m\n",
        "    db=-2*np.sum(self.Y-Y_prediction)/self.m\n",
        "    #updating the weights and bias values\n",
        "    self.w=self.w-self.learning_rate*dw\n",
        "    self.b=self.b-self.learning_rate*db\n",
        "\n",
        "#function to predict the target variable\n",
        "  def predict(self, X):\n",
        "    return X.dot(self.w)+self.b  #Y=wX+b"
      ],
      "metadata": {
        "id": "Coyk9s-Sa4Uk"
      },
      "execution_count": 2,
      "outputs": []
    },
    {
      "cell_type": "code",
      "source": [],
      "metadata": {
        "id": "_aNMU5UdgoMu"
      },
      "execution_count": null,
      "outputs": []
    }
  ]
}