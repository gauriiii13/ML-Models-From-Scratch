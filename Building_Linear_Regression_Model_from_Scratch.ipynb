{
  "nbformat": 4,
  "nbformat_minor": 0,
  "metadata": {
    "colab": {
      "provenance": [],
      "authorship_tag": "ABX9TyPZP2G+vV36qmJp7zR/UAjb",
      "include_colab_link": true
    },
    "kernelspec": {
      "name": "python3",
      "display_name": "Python 3"
    },
    "language_info": {
      "name": "python"
    }
  },
  "cells": [
    {
      "cell_type": "markdown",
      "metadata": {
        "id": "view-in-github",
        "colab_type": "text"
      },
      "source": [
        "<a href=\"https://colab.research.google.com/github/gauriiii13/ML-Models-From-Scratch/blob/main/Building_Linear_Regression_Model_from_Scratch.ipynb\" target=\"_parent\"><img src=\"https://colab.research.google.com/assets/colab-badge.svg\" alt=\"Open In Colab\"/></a>"
      ]
    },
    {
      "cell_type": "markdown",
      "source": [
        "#**Importing Dependencies**"
      ],
      "metadata": {
        "id": "NQDmBU-nQ7ZO"
      }
    },
    {
      "cell_type": "code",
      "execution_count": 2,
      "metadata": {
        "id": "ags4YKw6fBto"
      },
      "outputs": [],
      "source": [
        "import numpy as np"
      ]
    },
    {
      "cell_type": "markdown",
      "source": [
        "#**Linear Regression**"
      ],
      "metadata": {
        "id": "k6mZiZSmgiTz"
      }
    },
    {
      "cell_type": "code",
      "source": [
        "class Linear_Regression():\n",
        "\n",
        "#constructor, initialize hyperparameters\n",
        "  def __init__(self, learning_rate, no_of_iterations):\n",
        "     self.learning_rate=learning_rate\n",
        "     self.no_of_iterations=no_of_iterations\n",
        "\n",
        "  def fit(self, X, Y):\n",
        "     #no of training datapoints and no of features in dataset\n",
        "     self.m, self.n= X.shape\n",
        "     #initiating weight and bias\n",
        "     self.w=np.zeros(self.n)  #weight for all independent features is set as 0\n",
        "     self.b=0\n",
        "     self.X=X\n",
        "     self.Y=Y\n",
        "     #implementing gradient descent\n",
        "     for i in range(self.no_of_iterations):\n",
        "      self.update_weights()\n",
        "\n",
        "  def update_weights(self):\n",
        "     Y_prediction=self.predict(self.X)\n",
        "     #calculate gradients\n",
        "     dw= -(2*(self.X.T).dot(self.Y-self.Y_prediction))/self.m\n",
        "     db= -(2*np.sum(self.Y-self.Y_prediction))/self.m\n",
        "     #updating the weights\n",
        "     w=self.w-self.learning_rate*dw\n",
        "     b=self.b-self.learning_rate*db\n",
        "\n",
        "  def predict(self, X):\n",
        "    return X.dot(self.w)+self.b  #y=wx+b, w is an array so dot product\n"
      ],
      "metadata": {
        "id": "6uAJaDPQgfwM"
      },
      "execution_count": 3,
      "outputs": []
    },
    {
      "cell_type": "code",
      "source": [],
      "metadata": {
        "id": "N-xEhB5SmlmM"
      },
      "execution_count": null,
      "outputs": []
    }
  ]
}