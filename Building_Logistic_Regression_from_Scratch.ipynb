{
  "nbformat": 4,
  "nbformat_minor": 0,
  "metadata": {
    "colab": {
      "provenance": [],
      "authorship_tag": "ABX9TyOtBf6qtZzwTxXJaUqJ3TyH",
      "include_colab_link": true
    },
    "kernelspec": {
      "name": "python3",
      "display_name": "Python 3"
    },
    "language_info": {
      "name": "python"
    }
  },
  "cells": [
    {
      "cell_type": "markdown",
      "metadata": {
        "id": "view-in-github",
        "colab_type": "text"
      },
      "source": [
        "<a href=\"https://colab.research.google.com/github/gauriiii13/ML-Models-From-Scratch/blob/main/Building_Logistic_Regression_from_Scratch.ipynb\" target=\"_parent\"><img src=\"https://colab.research.google.com/assets/colab-badge.svg\" alt=\"Open In Colab\"/></a>"
      ]
    },
    {
      "cell_type": "markdown",
      "source": [
        "#**Importing dependencies**"
      ],
      "metadata": {
        "id": "ng45nluwGKRl"
      }
    },
    {
      "cell_type": "code",
      "execution_count": 1,
      "metadata": {
        "id": "E4sCv1u_zUp2"
      },
      "outputs": [],
      "source": [
        "import numpy as np"
      ]
    },
    {
      "cell_type": "markdown",
      "source": [
        "#**Logistic Regression**"
      ],
      "metadata": {
        "id": "AUM-mfvxGSxh"
      }
    },
    {
      "cell_type": "code",
      "source": [
        "class Logistic_Regression:\n",
        "\n",
        "#constructor, initialize hyperparameters\n",
        "  def __init__(self, learning_rate, no_of_iterations):\n",
        "     self.learning_rate=learning_rate\n",
        "     self.no_of_iterations=no_of_iterations\n",
        "\n",
        "#fit function to train the model with some dataset\n",
        "  def fit(self, X, Y):\n",
        "     #no of training datapoints and no of features in dataset\n",
        "     self.m,self.n=X.shape\n",
        "     #initialize the weights and bias\n",
        "     self.w=np.zeros(self.n)\n",
        "     self.b=0\n",
        "     self.X=X\n",
        "     self.Y=Y\n",
        "     #implementing gradient descent\n",
        "     for i in range(self.no_of_iterations):\n",
        "      self.update_weights()\n",
        "\n",
        "  def update_weights(self):\n",
        "     #Y_hat formula\n",
        "     Y_hat=1/(1+np.exp(-(self.X.dot(self.w)+self.b))) #substituted Z with wX+b\n",
        "     #find derivatives\n",
        "     dw=(1/self.m)*np.dot(self.X.T,(Y_hat-self.Y))\n",
        "     db=(1/self.m)*np.sum(Y_hat-self.Y)\n",
        "     #updating weights and bias\n",
        "     self.w=self.w-self.learning_rate*dw\n",
        "     self.b=self.b-self.learning_rate*db\n",
        "\n",
        "#writing sigmoid equation and decision boundary\n",
        "#decision boundary: if y_hat>0.5, then ans is 1, else ans is 0\n",
        "  def predict(self,):\n",
        "     Y_pred=1/(1+np.exp(-(self.X.dot(self.w)+self.b)))\n",
        "     Y_pred=np.where(Y_pred>0.5,1,0)\n",
        "     return Y_pred\n"
      ],
      "metadata": {
        "id": "jfGW_vUAF2Oz"
      },
      "execution_count": 5,
      "outputs": []
    },
    {
      "cell_type": "code",
      "source": [],
      "metadata": {
        "id": "x3u02LZNM3xG"
      },
      "execution_count": null,
      "outputs": []
    }
  ]
}