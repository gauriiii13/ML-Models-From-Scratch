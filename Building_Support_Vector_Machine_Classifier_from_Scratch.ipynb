{
  "nbformat": 4,
  "nbformat_minor": 0,
  "metadata": {
    "colab": {
      "provenance": [],
      "authorship_tag": "ABX9TyMj89Btnz9sKyzr6KJejayQ",
      "include_colab_link": true
    },
    "kernelspec": {
      "name": "python3",
      "display_name": "Python 3"
    },
    "language_info": {
      "name": "python"
    }
  },
  "cells": [
    {
      "cell_type": "markdown",
      "metadata": {
        "id": "view-in-github",
        "colab_type": "text"
      },
      "source": [
        "<a href=\"https://colab.research.google.com/github/gauriiii13/ML-Models-From-Scratch/blob/main/Building_Support_Vector_Machine_Classifier_from_Scratch.ipynb\" target=\"_parent\"><img src=\"https://colab.research.google.com/assets/colab-badge.svg\" alt=\"Open In Colab\"/></a>"
      ]
    },
    {
      "cell_type": "markdown",
      "source": [
        "#**Importing Dependencies**"
      ],
      "metadata": {
        "id": "z8hNLfKIQQxK"
      }
    },
    {
      "cell_type": "code",
      "execution_count": 1,
      "metadata": {
        "id": "qlzB17_-QKKI"
      },
      "outputs": [],
      "source": [
        "import numpy as np"
      ]
    },
    {
      "cell_type": "markdown",
      "source": [
        "#**Support Vector Machine Classifier**"
      ],
      "metadata": {
        "id": "zFmR8INZQa3X"
      }
    },
    {
      "cell_type": "code",
      "source": [
        "class SVM_Classifier():\n",
        "\n",
        "#initializing hyperparameters\n",
        "  def __init__(self,learning_rate,no_of_iterations,lambda_parameter):\n",
        "    self.learning_rate=learning_rate\n",
        "    self.no_of_iterations=no_of_iterations\n",
        "    self.lambda_parameter=lambda_parameter\n",
        "\n",
        "#fitting dataset into SVM Classifier\n",
        "  def fit(self,X,Y):\n",
        "    #no of training datapoints and no of features in dataset\n",
        "    self.m,self.n=X.shape\n",
        "    #initialize the weights and bias\n",
        "    self.w=np.zeros(self.n)\n",
        "    self.b=0\n",
        "    self.X=X\n",
        "    self.Y=Y\n",
        "    #implementing gradient descent\n",
        "    for i in range(self.no_of_iterations):\n",
        "      self.update_weights()\n",
        "\n",
        "#updating weights and bias value\n",
        "  def update_weights(self):\n",
        "    #label encoding\n",
        "    y_label=np.where(self.Y<=0,-1,1)\n",
        "    #calculate gradients\n",
        "    for index,x_i in enumerate(self.X):\n",
        "      condition=y_label[index]*(np.dot(x_i,self.w)-self.b)>=1\n",
        "      if condition==True:\n",
        "        dw=2*self.lambda_parameter*self.w\n",
        "        db=0\n",
        "      else:\n",
        "        dw=  (2*self.lambda_parameter*self.w)-np.dot(x_i,y_label[index])\n",
        "        db=y_label[index]\n",
        "    self.w=self.w-self.learning_rate*dw\n",
        "    self.b=self.b-self.learning_rate*db\n",
        "\n",
        "#predict te=he label for given input value\n",
        "  def predict(self,X):\n",
        "    output=np.dot(X,self.w)-self.b\n",
        "    predicted_labels=np.sign(output)\n",
        "    y_hat=np.where(predicted_labels<=-1,0,1)\n",
        "    return y_hat"
      ],
      "metadata": {
        "id": "TdXE6chmQZYA"
      },
      "execution_count": 2,
      "outputs": []
    },
    {
      "cell_type": "code",
      "source": [],
      "metadata": {
        "id": "XT7BLU3sXMAU"
      },
      "execution_count": null,
      "outputs": []
    }
  ]
}